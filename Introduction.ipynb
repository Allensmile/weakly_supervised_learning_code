{
 "cells": [
  {
   "cell_type": "markdown",
   "metadata": {},
   "source": [
    "# Weakly Supervised Learning\n",
    "\n",
    "Welcome to *Weakly Supervised Learning* (O'Reilly Media, 2020) by [Russell Jurney](https://linkedin.com/in/russelljurney). \n",
    "\n",
    "The book's examples are organized by chapter:\n",
    "\n",
    "* [Chapter 1]()\n",
    "* [Chapter 2]()"
   ]
  }
 ],
 "metadata": {
  "kernelspec": {
   "display_name": "Python 3",
   "language": "python",
   "name": "python3"
  },
  "language_info": {
   "codemirror_mode": {
    "name": "ipython",
    "version": 3
   },
   "file_extension": ".py",
   "mimetype": "text/x-python",
   "name": "python",
   "nbconvert_exporter": "python",
   "pygments_lexer": "ipython3",
   "version": "3.7.6"
  }
 },
 "nbformat": 4,
 "nbformat_minor": 2
}
