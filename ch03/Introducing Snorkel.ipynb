{
 "cells": [
  {
   "cell_type": "markdown",
   "metadata": {},
   "source": [
    "# Chapter 3: Introducing Snorkel\n",
    "\n",
    "[Snorkel](https://www.snorkel.org/) is a [software project](https://github.com/snorkel-team/snorkel) originally from the Hazy Research group at Stanford University enabling the practice of *weak supervision*, *distant supervision*, *data augmentation* and *data slicing*.  Weak and distant supervision and data augmentation are terms we’ve discussed, but what is data slicing? \n",
    "\n",
    "The project has an excellent [Get Started](https://www.snorkel.org/get-started/) page, and I recommend you spend some time working the [tutorials](https://github.com/snorkel-team/snorkel-tutorials) before proceeding beyond this chapter. \n",
    "\n",
    "Snorkel implements an unsupervised generative model that accepts a matrix of weak labels for records in your training data and produces strong labels by learning the relationships between these weak labels through matrix factorization."
   ]
  },
  {
   "cell_type": "code",
   "execution_count": 1,
   "metadata": {},
   "outputs": [
    {
     "name": "stderr",
     "output_type": "stream",
     "text": [
      "[nltk_data] Downloading package punkt to /home/rjurney/nltk_data...\n",
      "[nltk_data]   Package punkt is already up-to-date!\n",
      "[nltk_data] Downloading package stopwords to\n",
      "[nltk_data]     /home/rjurney/nltk_data...\n",
      "[nltk_data]   Package stopwords is already up-to-date!\n"
     ]
    }
   ],
   "source": [
    "import sys\n",
    "sys.path.append(\"..\")\n",
    "\n",
    "import numpy as np\n",
    "import pandas as pd\n",
    "import pyarrow\n",
    "\n",
    "from lib import utils"
   ]
  },
  {
   "cell_type": "markdown",
   "metadata": {},
   "source": [
    "## Part 1: Loading the Labeled Amazon Github Projects\n",
    "\n",
    "I have previously hand labeled about 2,600 Github projects belonging to Amazon and its subsidiariesinto categories related to their purpose. We're going to use this dataset to introduce Jupyter.\n",
    "\n",
    "### Hand Labeling this Data\n",
    "\n",
    "In order to get a ground truth dataset against which to benchmark our Snorkel labeling, I hand labeled all Amazon Github projects in [this sheet](https://docs.google.com/spreadsheets/d/1wiesQSde5LwWV_vpMFQh24Lqx5Mr3VG7fk_e6yht0jU/edit?usp=sharing). The label categories are:\n",
    "\n",
    "| Number | Code      | Description                          |\n",
    "|--------|-----------|--------------------------------------|\n",
    "| 0      | GENERAL   | A FOSS project of general utility    |\n",
    "| 1      | API       | API library for AWS / Amazon product |\n",
    "| 2      | RESEARCH  | A research paper and/or dataset      |\n",
    "| 3      | DEAD      | Project is dead, no longer useful    |\n",
    "| 3      | OTHER     | Uncertainty... what is this thing?   |\n",
    "\n",
    "If you want to make corrections, please open the sheet, click on `File --> Make a Copy`, make any edits and then share the sheet with me."
   ]
  },
  {
   "cell_type": "code",
   "execution_count": 2,
   "metadata": {},
   "outputs": [
    {
     "data": {
      "text/html": [
       "<div>\n",
       "<style scoped>\n",
       "    .dataframe tbody tr th:only-of-type {\n",
       "        vertical-align: middle;\n",
       "    }\n",
       "\n",
       "    .dataframe tbody tr th {\n",
       "        vertical-align: top;\n",
       "    }\n",
       "\n",
       "    .dataframe thead th {\n",
       "        text-align: right;\n",
       "    }\n",
       "</style>\n",
       "<table border=\"1\" class=\"dataframe\">\n",
       "  <thead>\n",
       "    <tr style=\"text-align: right;\">\n",
       "      <th></th>\n",
       "      <th>full_name</th>\n",
       "      <th>html_url</th>\n",
       "      <th>description</th>\n",
       "      <th>readme</th>\n",
       "      <th>label</th>\n",
       "    </tr>\n",
       "    <tr>\n",
       "      <th>id</th>\n",
       "      <th></th>\n",
       "      <th></th>\n",
       "      <th></th>\n",
       "      <th></th>\n",
       "      <th></th>\n",
       "    </tr>\n",
       "  </thead>\n",
       "  <tbody>\n",
       "    <tr>\n",
       "      <th>61861755</th>\n",
       "      <td>alexa/alexa-skills-kit-sdk-for-nodejs</td>\n",
       "      <td>https://github.com/alexa/alexa-skills-kit-sdk-...</td>\n",
       "      <td>The Alexa Skills Kit SDK for Node.js helps you...</td>\n",
       "      <td>&lt;p align=\"center\"&gt;\\n  &lt;img src=\"https://m.medi...</td>\n",
       "      <td>API</td>\n",
       "    </tr>\n",
       "    <tr>\n",
       "      <th>84138837</th>\n",
       "      <td>alexa/alexa-cookbook</td>\n",
       "      <td>https://github.com/alexa/alexa-cookbook</td>\n",
       "      <td>A series of sample code projects to be used fo...</td>\n",
       "      <td>\\n# Alexa Skill Building Cookbook\\n\\n&lt;div styl...</td>\n",
       "      <td>API</td>\n",
       "    </tr>\n",
       "    <tr>\n",
       "      <th>63275452</th>\n",
       "      <td>alexa/skill-sample-nodejs-fact</td>\n",
       "      <td>https://github.com/alexa/skill-sample-nodejs-fact</td>\n",
       "      <td>Build An Alexa Fact Skill</td>\n",
       "      <td># Build An Alexa Fact Skill\\n&lt;img src=\"https:/...</td>\n",
       "      <td>API</td>\n",
       "    </tr>\n",
       "    <tr>\n",
       "      <th>81483877</th>\n",
       "      <td>alexa/avs-device-sdk</td>\n",
       "      <td>https://github.com/alexa/avs-device-sdk</td>\n",
       "      <td>An SDK for commercial device makers to integra...</td>\n",
       "      <td>### What is the Alexa Voice Service (AVS)?\\n\\n...</td>\n",
       "      <td>API</td>\n",
       "    </tr>\n",
       "    <tr>\n",
       "      <th>38904647</th>\n",
       "      <td>alexa/alexa-skills-kit-sdk-for-java</td>\n",
       "      <td>https://github.com/alexa/alexa-skills-kit-sdk-...</td>\n",
       "      <td>The Alexa Skills Kit SDK for Java helps you ge...</td>\n",
       "      <td>&lt;p align=\"center\"&gt;\\n  &lt;img src=\"https://m.medi...</td>\n",
       "      <td>API</td>\n",
       "    </tr>\n",
       "  </tbody>\n",
       "</table>\n",
       "</div>"
      ],
      "text/plain": [
       "                                      full_name  \\\n",
       "id                                                \n",
       "61861755  alexa/alexa-skills-kit-sdk-for-nodejs   \n",
       "84138837                   alexa/alexa-cookbook   \n",
       "63275452         alexa/skill-sample-nodejs-fact   \n",
       "81483877                   alexa/avs-device-sdk   \n",
       "38904647    alexa/alexa-skills-kit-sdk-for-java   \n",
       "\n",
       "                                                   html_url  \\\n",
       "id                                                            \n",
       "61861755  https://github.com/alexa/alexa-skills-kit-sdk-...   \n",
       "84138837            https://github.com/alexa/alexa-cookbook   \n",
       "63275452  https://github.com/alexa/skill-sample-nodejs-fact   \n",
       "81483877            https://github.com/alexa/avs-device-sdk   \n",
       "38904647  https://github.com/alexa/alexa-skills-kit-sdk-...   \n",
       "\n",
       "                                                description  \\\n",
       "id                                                            \n",
       "61861755  The Alexa Skills Kit SDK for Node.js helps you...   \n",
       "84138837  A series of sample code projects to be used fo...   \n",
       "63275452                          Build An Alexa Fact Skill   \n",
       "81483877  An SDK for commercial device makers to integra...   \n",
       "38904647  The Alexa Skills Kit SDK for Java helps you ge...   \n",
       "\n",
       "                                                     readme label  \n",
       "id                                                                 \n",
       "61861755  <p align=\"center\">\\n  <img src=\"https://m.medi...   API  \n",
       "84138837  \\n# Alexa Skill Building Cookbook\\n\\n<div styl...   API  \n",
       "63275452  # Build An Alexa Fact Skill\\n<img src=\"https:/...   API  \n",
       "81483877  ### What is the Alexa Voice Service (AVS)?\\n\\n...   API  \n",
       "38904647  <p align=\"center\">\\n  <img src=\"https://m.medi...   API  "
      ]
     },
     "execution_count": 2,
     "metadata": {},
     "output_type": "execute_result"
    }
   ],
   "source": [
    "readme_df = pd.read_parquet('../data/aws_github.parquet', engine='pyarrow')\n",
    "readme_df.head()"
   ]
  },
  {
   "cell_type": "markdown",
   "metadata": {},
   "source": [
    "## Profile the Data\n",
    "\n",
    "Let's take a quick look at the labels to see what we'll be classifying."
   ]
  },
  {
   "cell_type": "code",
   "execution_count": 5,
   "metadata": {},
   "outputs": [
    {
     "name": "stdout",
     "output_type": "stream",
     "text": [
      "Total records: 2,568\n"
     ]
    },
    {
     "data": {
      "text/plain": [
       "API         2265\n",
       "GENERAL      279\n",
       "DEAD          14\n",
       "RESEARCH       9\n",
       "OTHER          1\n",
       "Name: label, dtype: int64"
      ]
     },
     "execution_count": 5,
     "metadata": {},
     "output_type": "execute_result"
    }
   ],
   "source": [
    "print(f'Total records: {len(readme_df.index):,}')\n",
    "\n",
    "readme_df['label'].value_counts()"
   ]
  },
  {
   "cell_type": "markdown",
   "metadata": {},
   "source": [
    "### How much general utility do Amazon's Github projects have?\n",
    "\n",
    "One question that occurs to me to ask is - how much general utility do Amazon's Github projects have? Let's look at the number of `GENERAL` purpose compared to the number of `API` projects."
   ]
  },
  {
   "cell_type": "code",
   "execution_count": 26,
   "metadata": {},
   "outputs": [
    {
     "name": "stdout",
     "output_type": "stream",
     "text": [
      "Percentage of projects having general utility:   10.967%\n",
      "Percentage of projects for Amazon products/APIs: 89.033%\n"
     ]
    }
   ],
   "source": [
    "api_count = readme_df[readme_df['label'] == 'API'].count(axis='index')['full_name']\n",
    "general_count = readme_df[readme_df['label'] == 'GENERAL'].count(axis='index')['full_name']\n",
    "\n",
    "general_pct = 100 * (general_count / (api_count + general_count))\n",
    "api_pct     = 100 * (api_count / (api_count + general_count))\n",
    "\n",
    "print(f'Percentage of projects having general utility:   {general_pct:,.3f}%')\n",
    "print(f'Percentage of projects for Amazon products/APIs: {api_pct:,.3f}%')"
   ]
  },
  {
   "cell_type": "markdown",
   "metadata": {},
   "source": [
    "### Simplify to `API` vs `GENERAL`\n",
    "\n",
    "We throw out `DEAD`, `RESEARCH` and `OTHER` to focus on `API` vs `GENERAL` - is an open source project of general utility or is it a client to a company's commercial products?"
   ]
  },
  {
   "cell_type": "code",
   "execution_count": 7,
   "metadata": {},
   "outputs": [
    {
     "name": "stdout",
     "output_type": "stream",
     "text": [
      "Total records with API/GENERAL labels: 2,544\n"
     ]
    },
    {
     "data": {
      "text/html": [
       "<div>\n",
       "<style scoped>\n",
       "    .dataframe tbody tr th:only-of-type {\n",
       "        vertical-align: middle;\n",
       "    }\n",
       "\n",
       "    .dataframe tbody tr th {\n",
       "        vertical-align: top;\n",
       "    }\n",
       "\n",
       "    .dataframe thead th {\n",
       "        text-align: right;\n",
       "    }\n",
       "</style>\n",
       "<table border=\"1\" class=\"dataframe\">\n",
       "  <thead>\n",
       "    <tr style=\"text-align: right;\">\n",
       "      <th></th>\n",
       "      <th>full_name</th>\n",
       "      <th>html_url</th>\n",
       "      <th>description</th>\n",
       "      <th>readme</th>\n",
       "      <th>label</th>\n",
       "    </tr>\n",
       "    <tr>\n",
       "      <th>id</th>\n",
       "      <th></th>\n",
       "      <th></th>\n",
       "      <th></th>\n",
       "      <th></th>\n",
       "      <th></th>\n",
       "    </tr>\n",
       "  </thead>\n",
       "  <tbody>\n",
       "    <tr>\n",
       "      <th>61861755</th>\n",
       "      <td>alexa/alexa-skills-kit-sdk-for-nodejs</td>\n",
       "      <td>https://github.com/alexa/alexa-skills-kit-sdk-...</td>\n",
       "      <td>The Alexa Skills Kit SDK for Node.js helps you...</td>\n",
       "      <td>&lt;p align=\"center\"&gt;\\n  &lt;img src=\"https://m.medi...</td>\n",
       "      <td>API</td>\n",
       "    </tr>\n",
       "    <tr>\n",
       "      <th>84138837</th>\n",
       "      <td>alexa/alexa-cookbook</td>\n",
       "      <td>https://github.com/alexa/alexa-cookbook</td>\n",
       "      <td>A series of sample code projects to be used fo...</td>\n",
       "      <td>\\n# Alexa Skill Building Cookbook\\n\\n&lt;div styl...</td>\n",
       "      <td>API</td>\n",
       "    </tr>\n",
       "    <tr>\n",
       "      <th>63275452</th>\n",
       "      <td>alexa/skill-sample-nodejs-fact</td>\n",
       "      <td>https://github.com/alexa/skill-sample-nodejs-fact</td>\n",
       "      <td>Build An Alexa Fact Skill</td>\n",
       "      <td># Build An Alexa Fact Skill\\n&lt;img src=\"https:/...</td>\n",
       "      <td>API</td>\n",
       "    </tr>\n",
       "    <tr>\n",
       "      <th>81483877</th>\n",
       "      <td>alexa/avs-device-sdk</td>\n",
       "      <td>https://github.com/alexa/avs-device-sdk</td>\n",
       "      <td>An SDK for commercial device makers to integra...</td>\n",
       "      <td>### What is the Alexa Voice Service (AVS)?\\n\\n...</td>\n",
       "      <td>API</td>\n",
       "    </tr>\n",
       "    <tr>\n",
       "      <th>38904647</th>\n",
       "      <td>alexa/alexa-skills-kit-sdk-for-java</td>\n",
       "      <td>https://github.com/alexa/alexa-skills-kit-sdk-...</td>\n",
       "      <td>The Alexa Skills Kit SDK for Java helps you ge...</td>\n",
       "      <td>&lt;p align=\"center\"&gt;\\n  &lt;img src=\"https://m.medi...</td>\n",
       "      <td>API</td>\n",
       "    </tr>\n",
       "  </tbody>\n",
       "</table>\n",
       "</div>"
      ],
      "text/plain": [
       "                                      full_name  \\\n",
       "id                                                \n",
       "61861755  alexa/alexa-skills-kit-sdk-for-nodejs   \n",
       "84138837                   alexa/alexa-cookbook   \n",
       "63275452         alexa/skill-sample-nodejs-fact   \n",
       "81483877                   alexa/avs-device-sdk   \n",
       "38904647    alexa/alexa-skills-kit-sdk-for-java   \n",
       "\n",
       "                                                   html_url  \\\n",
       "id                                                            \n",
       "61861755  https://github.com/alexa/alexa-skills-kit-sdk-...   \n",
       "84138837            https://github.com/alexa/alexa-cookbook   \n",
       "63275452  https://github.com/alexa/skill-sample-nodejs-fact   \n",
       "81483877            https://github.com/alexa/avs-device-sdk   \n",
       "38904647  https://github.com/alexa/alexa-skills-kit-sdk-...   \n",
       "\n",
       "                                                description  \\\n",
       "id                                                            \n",
       "61861755  The Alexa Skills Kit SDK for Node.js helps you...   \n",
       "84138837  A series of sample code projects to be used fo...   \n",
       "63275452                          Build An Alexa Fact Skill   \n",
       "81483877  An SDK for commercial device makers to integra...   \n",
       "38904647  The Alexa Skills Kit SDK for Java helps you ge...   \n",
       "\n",
       "                                                     readme label  \n",
       "id                                                                 \n",
       "61861755  <p align=\"center\">\\n  <img src=\"https://m.medi...   API  \n",
       "84138837  \\n# Alexa Skill Building Cookbook\\n\\n<div styl...   API  \n",
       "63275452  # Build An Alexa Fact Skill\\n<img src=\"https:/...   API  \n",
       "81483877  ### What is the Alexa Voice Service (AVS)?\\n\\n...   API  \n",
       "38904647  <p align=\"center\">\\n  <img src=\"https://m.medi...   API  "
      ]
     },
     "execution_count": 7,
     "metadata": {},
     "output_type": "execute_result"
    }
   ],
   "source": [
    "df = readme_df[readme_df['label'].isin(['API', 'GENERAL'])]\n",
    "\n",
    "print(f'Total records with API/GENERAL labels: {len(df.index):,}')\n",
    "\n",
    "df.head()"
   ]
  },
  {
   "cell_type": "markdown",
   "metadata": {},
   "source": [
    "## Introducing "
   ]
  },
  {
   "cell_type": "markdown",
   "metadata": {},
   "source": [
    "### Defining Label Schema\n",
    "\n",
    "The labels for this analysis are:\n",
    "\n",
    "| Number | Code      | Description                       |\n",
    "|--------|-----------|-----------------------------------|\n",
    "| -1     | ABSTAIN   | No vote, for Labeling Functions   |\n",
    "| 0      | GENERAL   | A FOSS project of general appeal  |\n",
    "| 1      | API       | An API library for AWS            |"
   ]
  },
  {
   "cell_type": "code",
   "execution_count": null,
   "metadata": {},
   "outputs": [],
   "source": [
    "df['readme_text'] = df['readme'].apply(utils.markdown_to_text)\n",
    "df['readme_code'] = df['readme'].apply(utils.markdown_to_code)\n",
    "\n",
    "df.head()"
   ]
  },
  {
   "cell_type": "code",
   "execution_count": null,
   "metadata": {},
   "outputs": [],
   "source": [
    "utils.markdown_to_text(df['readme'].iloc[0])\n",
    "utils.markdown_to_code(df['readme'].iloc[0])"
   ]
  },
  {
   "cell_type": "code",
   "execution_count": null,
   "metadata": {},
   "outputs": [],
   "source": [
    "import io\n",
    "import re\n",
    "\n",
    "from bs4 import BeautifulSoup\n",
    "from markdown import markdown\n",
    "\n",
    "\n",
    "def markdown_to_code(markdown_text):\n",
    "    \"\"\"Extract source code from Markdown snippets\"\"\"\n",
    "    code_blocks = []\n",
    "    code_snippets = [] # These get a single block\n",
    "\n",
    "    f = io.StringIO(markdown_text)\n",
    "    while True:\n",
    "        line = f.readline()\n",
    "        if not line:\n",
    "            # EOF\n",
    "            break\n",
    "        is_block = re.match(\"[^`]*```(.*)$\", line)\n",
    "        if is_block:\n",
    "            code_block = [f.readline()]\n",
    "            while re.search(\"```\", code_block[-1]) is None:\n",
    "                code_block.append(f.readline())\n",
    "            code_blocks.append(\"\".join(code_block[:-1]))\n",
    "        else:\n",
    "            code = re.match(\".*`(.+?)`.*\", line)\n",
    "            if code:\n",
    "                for group in code.groups():\n",
    "                    line = line.replace(f'`{group}`', '')\n",
    "                    code_snippets.append(group)\n",
    "    \n",
    "    # Now combine all snippets into one code block\n",
    "    code_blocks.append(' '.join(code_snippets))\n",
    "    \n",
    "    return '\\n'.join(code_blocks)\n",
    "\n",
    "\n",
    "def markdown_to_text(markdown_text):\n",
    "    \"\"\"Extract plaintext - minus the code snippets - from Markdown\"\"\"\n",
    "    text_blocks = []\n",
    "    f = io.StringIO(markdown_text)\n",
    "    i = 0\n",
    "    while True:\n",
    "        line = f.readline()\n",
    "        if not line:\n",
    "            # EOF\n",
    "            break\n",
    "        is_block = re.match(\"[^`]*```(.*)$\", line)\n",
    "        if is_block:\n",
    "            print('is_block')\n",
    "            first_record = f.readline()\n",
    "            second_record = f.readline()\n",
    "            print(f'first_record: {first_record}')\n",
    "            print(f'second_record: {second_record}')\n",
    "            code_block = [first_record]\n",
    "            while re.search(\"```\", code_block[-1]) is None:\n",
    "                print('inside_block')\n",
    "                f.readline()\n",
    "        else:\n",
    "            code = re.match(\".*`(.+?)`.*\", line)\n",
    "            if code:\n",
    "                for group in code.groups():\n",
    "                    line = line.replace(f'`{group}`', '')\n",
    "\n",
    "            text_blocks.append(line)\n",
    "        i += 1\n",
    "    \n",
    "    md = ''.join(text_blocks)\n",
    "    html = markdown(md)\n",
    "    soup = BeautifulSoup(html, 'lxml')\n",
    "    text = soup.find_all(text=True)\n",
    "    out_text = []\n",
    "    for text in text:\n",
    "        if text == '\\n':\n",
    "            pass\n",
    "        else:\n",
    "            out_text.append(text)\n",
    "    return out_text\n",
    "\n",
    "print(df['readme'].iloc[6][1204:-1])\n",
    "\n",
    "markdown_to_text(df['readme'].iloc[6])"
   ]
  },
  {
   "cell_type": "code",
   "execution_count": null,
   "metadata": {},
   "outputs": [],
   "source": []
  },
  {
   "cell_type": "code",
   "execution_count": null,
   "metadata": {},
   "outputs": [],
   "source": []
  }
 ],
 "metadata": {
  "kernelspec": {
   "display_name": "Python 3",
   "language": "python",
   "name": "python3"
  },
  "language_info": {
   "codemirror_mode": {
    "name": "ipython",
    "version": 3
   },
   "file_extension": ".py",
   "mimetype": "text/x-python",
   "name": "python",
   "nbconvert_exporter": "python",
   "pygments_lexer": "ipython3",
   "version": "3.7.4"
  }
 },
 "nbformat": 4,
 "nbformat_minor": 2
}
