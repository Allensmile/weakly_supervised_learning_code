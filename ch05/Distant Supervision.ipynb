{
 "cells": [
  {
   "cell_type": "markdown",
   "metadata": {},
   "source": [
    "# Sources of Distant Supervision for NER/IE from Stack Overflow Posts\n",
    "\n",
    "In this notebook we will be acquiring sources of distant supervision for our Information Extraction models using SPARQL queries on the WikiData dataset.\n",
    "\n",
    "## WikiData Programming Languages\n",
    "\n",
    "For the Snorkel example for Chapter 5, we create a programming language extractor from the titles and bodies of Stack Overflow questions. Here we generate the file that we used by querying WikiData using SPARQL to get a list of programming languages. We then use these language names to label positive examples of programming languages in posts for training our discriminative/network extractor model.\n",
    "\n",
    "The following SPARQL query prints out the names of all [Property:31:instances of](https://www.wikidata.org/wiki/Property:P31) [Item:Q9143 programming languages](https://www.wikidata.org/wiki/Q9143) in English content from WikiData.\n",
    "\n",
    "We `SELECT DISTINCT` the item and item labels, then filter the language of the item label to English, to avoid duplicate content from other languages."
   ]
  },
  {
   "cell_type": "code",
   "execution_count": 1,
   "metadata": {},
   "outputs": [],
   "source": [
    "!pip install -q jsonlines requests\n",
    "\n",
    "import json\n",
    "import jsonlines\n",
    "import requests"
   ]
  },
  {
   "cell_type": "code",
   "execution_count": 2,
   "metadata": {},
   "outputs": [],
   "source": [
    "url = 'https://query.wikidata.org/sparql'\n",
    "query = \"\"\"\n",
    "# Get all programming language names from English sources\n",
    "SELECT DISTINCT ?item ?item_label\n",
    "WHERE {\n",
    " ?item wdt:P31 wd:Q9143 # P31:instances of Q9143:programming language\n",
    " ; rdfs:label ?item_label .\n",
    "  \n",
    "  FILTER (LANG(?item_label) = \"en\"). # English only\n",
    "}\n",
    "\"\"\"\n",
    "r = requests.get(url, params = {'format': 'json', 'query': query})\n",
    "data = r.json()"
   ]
  },
  {
   "cell_type": "code",
   "execution_count": 6,
   "metadata": {},
   "outputs": [
    {
     "name": "stdout",
     "output_type": "stream",
     "text": [
      "[\n",
      "    {\n",
      "        \"item\": {\n",
      "            \"type\": \"uri\",\n",
      "            \"value\": \"http://www.wikidata.org/entity/Q2005\"\n",
      "        },\n",
      "        \"item_label\": {\n",
      "            \"type\": \"literal\",\n",
      "            \"value\": \"JavaScript\",\n",
      "            \"xml:lang\": \"en\"\n",
      "        }\n",
      "    },\n",
      "    {\n",
      "        \"item\": {\n",
      "            \"type\": \"uri\",\n",
      "            \"value\": \"http://www.wikidata.org/entity/Q1374139\"\n",
      "        },\n",
      "        \"item_label\": {\n",
      "            \"type\": \"literal\",\n",
      "            \"value\": \"Euphoria\",\n",
      "            \"xml:lang\": \"en\"\n",
      "        }\n",
      "    },\n",
      "    {\n",
      "        \"item\": {\n",
      "            \"type\": \"uri\",\n",
      "            \"value\": \"http://www.wikidata.org/entity/Q1334586\"\n",
      "        },\n",
      "        \"item_label\": {\n",
      "            \"type\": \"literal\",\n",
      "            \"value\": \"Emacs Lisp\",\n",
      "            \"xml:lang\": \"en\"\n",
      "        }\n",
      "    },\n",
      "    {\n",
      "        \"item\": {\n",
      "            \"type\": \"uri\",\n",
      "            \"value\": \"http://www.wikidata.org/entity/Q1356671\"\n",
      "        },\n",
      "        \"item_label\": {\n",
      "            \"type\": \"literal\",\n",
      "            \"value\": \"GT.M\",\n",
      "            \"xml:lang\": \"en\"\n",
      "        }\n",
      "    }\n",
      "]\n"
     ]
    }
   ],
   "source": [
    "print(json.dumps(data[\"results\"][\"bindings\"][0:4], indent=4, sort_keys=True))"
   ]
  },
  {
   "cell_type": "markdown",
   "metadata": {},
   "source": [
    "## Extract the Language Labels from nested JSON\n",
    "\n",
    "Nested JSON is a pain to work with in `DataFrames`, so we un-nest it, retaining only what we need."
   ]
  },
  {
   "cell_type": "code",
   "execution_count": 8,
   "metadata": {},
   "outputs": [
    {
     "name": "stdout",
     "output_type": "stream",
     "text": [
      "There were 1,417 languages returned.\n",
      "\n",
      "{'name': 'JavaScript', 'kb_url': 'http://www.wikidata.org/entity/Q2005', 'kb_id': 'Q2005'}\n",
      "{'name': 'Euphoria', 'kb_url': 'http://www.wikidata.org/entity/Q1374139', 'kb_id': 'Q1374139'}\n",
      "{'name': 'Emacs Lisp', 'kb_url': 'http://www.wikidata.org/entity/Q1334586', 'kb_id': 'Q1334586'}\n",
      "{'name': 'GT.M', 'kb_url': 'http://www.wikidata.org/entity/Q1356671', 'kb_id': 'Q1356671'}\n",
      "{'name': 'REBOL', 'kb_url': 'http://www.wikidata.org/entity/Q1359171', 'kb_id': 'Q1359171'}\n",
      "{'name': 'Embedded SQL', 'kb_url': 'http://www.wikidata.org/entity/Q1335009', 'kb_id': 'Q1335009'}\n",
      "{'name': 'SystemVerilog', 'kb_url': 'http://www.wikidata.org/entity/Q1387402', 'kb_id': 'Q1387402'}\n",
      "{'name': 'BETA', 'kb_url': 'http://www.wikidata.org/entity/Q830842', 'kb_id': 'Q830842'}\n",
      "{'name': 'newLISP', 'kb_url': 'http://www.wikidata.org/entity/Q827233', 'kb_id': 'Q827233'}\n",
      "{'name': 'Verilog', 'kb_url': 'http://www.wikidata.org/entity/Q827773', 'kb_id': 'Q827773'}\n"
     ]
    }
   ],
   "source": [
    "languages = [\n",
    "    {\n",
    "        'name': x['item_label']['value'],\n",
    "        'kb_url': x['item']['value'],\n",
    "        'kb_id': x['item']['value'].split('/')[-1], # Get the ID\n",
    "    }\n",
    "    for x in data['results']['bindings']\n",
    "]\n",
    "\n",
    "# Filter out an erroneous language\n",
    "languages = list(\n",
    "    filter(\n",
    "        lambda x: x['kb_id'] != 'Q25111344', \n",
    "        languages\n",
    "    )\n",
    ")\n",
    "\n",
    "print(f'There were {len(languages):,} languages returned.\\n')\n",
    "\n",
    "for l in languages[0:10]:\n",
    "    print(l)"
   ]
  },
  {
   "cell_type": "markdown",
   "metadata": {},
   "source": [
    "## Write Languages to Disk as CSV"
   ]
  },
  {
   "cell_type": "code",
   "execution_count": 10,
   "metadata": {},
   "outputs": [],
   "source": [
    "with jsonlines.open('programming_languages.jsonl', mode='w') as writer:\n",
    "    writer.write_all(languages)"
   ]
  },
  {
   "cell_type": "markdown",
   "metadata": {},
   "source": [
    "## Now get a list of operating systems to create negative LFs from"
   ]
  },
  {
   "cell_type": "code",
   "execution_count": 11,
   "metadata": {},
   "outputs": [],
   "source": [
    "url = 'https://query.wikidata.org/sparql'\n",
    "query = \"\"\"\n",
    "# Get all operating system names from English sources\n",
    "SELECT DISTINCT ?item ?item_label\n",
    "WHERE {\n",
    " ?item wdt:P31 wd:Q9135 # instances of operating system\n",
    " ; rdfs:label ?item_label .\n",
    "  \n",
    "  FILTER (LANG(?item_label) = \"en\"). \n",
    "}\n",
    "\"\"\"\n",
    "r = requests.get(url, params = {'format': 'json', 'query': query})\n",
    "data = r.json()"
   ]
  },
  {
   "cell_type": "code",
   "execution_count": 12,
   "metadata": {},
   "outputs": [
    {
     "name": "stdout",
     "output_type": "stream",
     "text": [
      "There were 1,066 programs returned.\n",
      "\n",
      "{'name': 'Windows 8', 'kb_url': 'http://www.wikidata.org/entity/Q5046', 'kb_id': 'Q5046'}\n",
      "{'name': 'Möbius', 'kb_url': 'http://www.wikidata.org/entity/Q3869245', 'kb_id': 'Q3869245'}\n",
      "{'name': 'ITIX', 'kb_url': 'http://www.wikidata.org/entity/Q3789886', 'kb_id': 'Q3789886'}\n",
      "{'name': 'TinyKRNL', 'kb_url': 'http://www.wikidata.org/entity/Q3991642', 'kb_id': 'Q3991642'}\n",
      "{'name': 'Myarc Disk Operating System', 'kb_url': 'http://www.wikidata.org/entity/Q3841260', 'kb_id': 'Q3841260'}\n",
      "{'name': 'NX-OS', 'kb_url': 'http://www.wikidata.org/entity/Q3869717', 'kb_id': 'Q3869717'}\n",
      "{'name': 'Unslung', 'kb_url': 'http://www.wikidata.org/entity/Q4006074', 'kb_id': 'Q4006074'}\n",
      "{'name': 'KnopILS', 'kb_url': 'http://www.wikidata.org/entity/Q3815960', 'kb_id': 'Q3815960'}\n",
      "{'name': 'Multiuser DOS', 'kb_url': 'http://www.wikidata.org/entity/Q3867065', 'kb_id': 'Q3867065'}\n",
      "{'name': 'MDOS', 'kb_url': 'http://www.wikidata.org/entity/Q3841258', 'kb_id': 'Q3841258'}\n"
     ]
    }
   ],
   "source": [
    "oses = [\n",
    "    {\n",
    "        'name': x['item_label']['value'],\n",
    "        'kb_url': x['item']['value'],\n",
    "        'kb_id': x['item']['value'].split('/')[-1], # Get the ID\n",
    "    }\n",
    "    for x in data['results']['bindings']\n",
    "]\n",
    "\n",
    "print(f'There were {len(oses):,} programs returned.\\n')\n",
    "\n",
    "for l in oses[0:10]:\n",
    "    print(l)"
   ]
  },
  {
   "cell_type": "code",
   "execution_count": 13,
   "metadata": {},
   "outputs": [],
   "source": [
    "with jsonlines.open('operating_systems.jsonl', mode='w') as writer:\n",
    "    writer.write_all(oses)"
   ]
  },
  {
   "cell_type": "markdown",
   "metadata": {},
   "source": [
    "## Conclusion\n",
    "\n",
    "Now we are ready to use our programming languages in our Label Functions (LFs) in the Snorkel notebook!"
   ]
  }
 ],
 "metadata": {
  "kernelspec": {
   "display_name": "Python 3",
   "language": "python",
   "name": "python3"
  },
  "language_info": {
   "codemirror_mode": {
    "name": "ipython",
    "version": 3
   },
   "file_extension": ".py",
   "mimetype": "text/x-python",
   "name": "python",
   "nbconvert_exporter": "python",
   "pygments_lexer": "ipython3",
   "version": "3.7.4"
  }
 },
 "nbformat": 4,
 "nbformat_minor": 2
}
